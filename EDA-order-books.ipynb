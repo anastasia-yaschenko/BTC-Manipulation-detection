{
 "metadata": {
  "language_info": {
   "codemirror_mode": {
    "name": "ipython",
    "version": 3
   },
   "file_extension": ".py",
   "mimetype": "text/x-python",
   "name": "python",
   "nbconvert_exporter": "python",
   "pygments_lexer": "ipython3",
   "version": "3.8.6-final"
  },
  "orig_nbformat": 2,
  "kernelspec": {
   "name": "python3",
   "display_name": "Python 3"
  }
 },
 "nbformat": 4,
 "nbformat_minor": 2,
 "cells": [
  {
   "cell_type": "code",
   "execution_count": 1,
   "metadata": {},
   "outputs": [],
   "source": [
    "import pandas as pd\n",
    "import numpy as np\n",
    "import matplotlib.pyplot as plt\n",
    "plt.rcParams['figure.figsize'] = [18, 5]"
   ]
  },
  {
   "cell_type": "code",
   "execution_count": 7,
   "metadata": {},
   "outputs": [
    {
     "output_type": "error",
     "ename": "ValueError",
     "evalue": "Length mismatch: Expected axis has 301 elements, new values have 76 elements",
     "traceback": [
      "\u001b[1;31m---------------------------------------------------------------------------\u001b[0m",
      "\u001b[1;31mValueError\u001b[0m                                Traceback (most recent call last)",
      "\u001b[1;32m<ipython-input-7-4c888d53c720>\u001b[0m in \u001b[0;36m<module>\u001b[1;34m\u001b[0m\n\u001b[0;32m     11\u001b[0m \u001b[1;33m\u001b[0m\u001b[0m\n\u001b[0;32m     12\u001b[0m \u001b[0masks\u001b[0m\u001b[1;33m.\u001b[0m\u001b[0mcolumns\u001b[0m \u001b[1;33m=\u001b[0m \u001b[0mcol_names\u001b[0m\u001b[1;33m\u001b[0m\u001b[1;33m\u001b[0m\u001b[0m\n\u001b[1;32m---> 13\u001b[1;33m \u001b[0mbids\u001b[0m\u001b[1;33m.\u001b[0m\u001b[0mcolumns\u001b[0m \u001b[1;33m=\u001b[0m \u001b[0mcol_names\u001b[0m\u001b[1;33m\u001b[0m\u001b[1;33m\u001b[0m\u001b[0m\n\u001b[0m\u001b[0;32m     14\u001b[0m \u001b[0masks\u001b[0m\u001b[1;33m.\u001b[0m\u001b[0mset_index\u001b[0m\u001b[1;33m(\u001b[0m\u001b[1;34m'time'\u001b[0m\u001b[1;33m,\u001b[0m \u001b[0minplace\u001b[0m \u001b[1;33m=\u001b[0m \u001b[1;32mTrue\u001b[0m\u001b[1;33m)\u001b[0m\u001b[1;33m\u001b[0m\u001b[1;33m\u001b[0m\u001b[0m\n\u001b[0;32m     15\u001b[0m \u001b[0mbids\u001b[0m\u001b[1;33m.\u001b[0m\u001b[0mset_index\u001b[0m\u001b[1;33m(\u001b[0m\u001b[1;34m'time'\u001b[0m\u001b[1;33m,\u001b[0m \u001b[0minplace\u001b[0m \u001b[1;33m=\u001b[0m \u001b[1;32mTrue\u001b[0m\u001b[1;33m)\u001b[0m\u001b[1;33m\u001b[0m\u001b[1;33m\u001b[0m\u001b[0m\n",
      "\u001b[1;32m~\\AppData\\Local\\Programs\\Python\\Python38-32\\lib\\site-packages\\pandas\\core\\generic.py\u001b[0m in \u001b[0;36m__setattr__\u001b[1;34m(self, name, value)\u001b[0m\n\u001b[0;32m   5150\u001b[0m         \u001b[1;32mtry\u001b[0m\u001b[1;33m:\u001b[0m\u001b[1;33m\u001b[0m\u001b[1;33m\u001b[0m\u001b[0m\n\u001b[0;32m   5151\u001b[0m             \u001b[0mobject\u001b[0m\u001b[1;33m.\u001b[0m\u001b[0m__getattribute__\u001b[0m\u001b[1;33m(\u001b[0m\u001b[0mself\u001b[0m\u001b[1;33m,\u001b[0m \u001b[0mname\u001b[0m\u001b[1;33m)\u001b[0m\u001b[1;33m\u001b[0m\u001b[1;33m\u001b[0m\u001b[0m\n\u001b[1;32m-> 5152\u001b[1;33m             \u001b[1;32mreturn\u001b[0m \u001b[0mobject\u001b[0m\u001b[1;33m.\u001b[0m\u001b[0m__setattr__\u001b[0m\u001b[1;33m(\u001b[0m\u001b[0mself\u001b[0m\u001b[1;33m,\u001b[0m \u001b[0mname\u001b[0m\u001b[1;33m,\u001b[0m \u001b[0mvalue\u001b[0m\u001b[1;33m)\u001b[0m\u001b[1;33m\u001b[0m\u001b[1;33m\u001b[0m\u001b[0m\n\u001b[0m\u001b[0;32m   5153\u001b[0m         \u001b[1;32mexcept\u001b[0m \u001b[0mAttributeError\u001b[0m\u001b[1;33m:\u001b[0m\u001b[1;33m\u001b[0m\u001b[1;33m\u001b[0m\u001b[0m\n\u001b[0;32m   5154\u001b[0m             \u001b[1;32mpass\u001b[0m\u001b[1;33m\u001b[0m\u001b[1;33m\u001b[0m\u001b[0m\n",
      "\u001b[1;32mpandas\\_libs\\properties.pyx\u001b[0m in \u001b[0;36mpandas._libs.properties.AxisProperty.__set__\u001b[1;34m()\u001b[0m\n",
      "\u001b[1;32m~\\AppData\\Local\\Programs\\Python\\Python38-32\\lib\\site-packages\\pandas\\core\\generic.py\u001b[0m in \u001b[0;36m_set_axis\u001b[1;34m(self, axis, labels)\u001b[0m\n\u001b[0;32m    562\u001b[0m     \u001b[1;32mdef\u001b[0m \u001b[0m_set_axis\u001b[0m\u001b[1;33m(\u001b[0m\u001b[0mself\u001b[0m\u001b[1;33m,\u001b[0m \u001b[0maxis\u001b[0m\u001b[1;33m:\u001b[0m \u001b[0mint\u001b[0m\u001b[1;33m,\u001b[0m \u001b[0mlabels\u001b[0m\u001b[1;33m:\u001b[0m \u001b[0mIndex\u001b[0m\u001b[1;33m)\u001b[0m \u001b[1;33m->\u001b[0m \u001b[1;32mNone\u001b[0m\u001b[1;33m:\u001b[0m\u001b[1;33m\u001b[0m\u001b[1;33m\u001b[0m\u001b[0m\n\u001b[0;32m    563\u001b[0m         \u001b[0mlabels\u001b[0m \u001b[1;33m=\u001b[0m \u001b[0mensure_index\u001b[0m\u001b[1;33m(\u001b[0m\u001b[0mlabels\u001b[0m\u001b[1;33m)\u001b[0m\u001b[1;33m\u001b[0m\u001b[1;33m\u001b[0m\u001b[0m\n\u001b[1;32m--> 564\u001b[1;33m         \u001b[0mself\u001b[0m\u001b[1;33m.\u001b[0m\u001b[0m_mgr\u001b[0m\u001b[1;33m.\u001b[0m\u001b[0mset_axis\u001b[0m\u001b[1;33m(\u001b[0m\u001b[0maxis\u001b[0m\u001b[1;33m,\u001b[0m \u001b[0mlabels\u001b[0m\u001b[1;33m)\u001b[0m\u001b[1;33m\u001b[0m\u001b[1;33m\u001b[0m\u001b[0m\n\u001b[0m\u001b[0;32m    565\u001b[0m         \u001b[0mself\u001b[0m\u001b[1;33m.\u001b[0m\u001b[0m_clear_item_cache\u001b[0m\u001b[1;33m(\u001b[0m\u001b[1;33m)\u001b[0m\u001b[1;33m\u001b[0m\u001b[1;33m\u001b[0m\u001b[0m\n\u001b[0;32m    566\u001b[0m \u001b[1;33m\u001b[0m\u001b[0m\n",
      "\u001b[1;32m~\\AppData\\Local\\Programs\\Python\\Python38-32\\lib\\site-packages\\pandas\\core\\internals\\managers.py\u001b[0m in \u001b[0;36mset_axis\u001b[1;34m(self, axis, new_labels)\u001b[0m\n\u001b[0;32m    224\u001b[0m \u001b[1;33m\u001b[0m\u001b[0m\n\u001b[0;32m    225\u001b[0m         \u001b[1;32mif\u001b[0m \u001b[0mnew_len\u001b[0m \u001b[1;33m!=\u001b[0m \u001b[0mold_len\u001b[0m\u001b[1;33m:\u001b[0m\u001b[1;33m\u001b[0m\u001b[1;33m\u001b[0m\u001b[0m\n\u001b[1;32m--> 226\u001b[1;33m             raise ValueError(\n\u001b[0m\u001b[0;32m    227\u001b[0m                 \u001b[1;34mf\"Length mismatch: Expected axis has {old_len} elements, new \"\u001b[0m\u001b[1;33m\u001b[0m\u001b[1;33m\u001b[0m\u001b[0m\n\u001b[0;32m    228\u001b[0m                 \u001b[1;34mf\"values have {new_len} elements\"\u001b[0m\u001b[1;33m\u001b[0m\u001b[1;33m\u001b[0m\u001b[0m\n",
      "\u001b[1;31mValueError\u001b[0m: Length mismatch: Expected axis has 301 elements, new values have 76 elements"
     ]
    }
   ],
   "source": [
    "asks = pd.read_csv('OrderBookAsks.csv', header=None)\n",
    "bids = pd.read_csv('OrderBookBids.csv', header=None)\n",
    "\n",
    "col_names = ['time']\n",
    "lv = 1\n",
    "for i in range(1, asks.shape[1], 3):\n",
    "    col_names.append('order'+str(lv))\n",
    "    col_names.append('price'+str(lv))\n",
    "    col_names.append('volume'+str(lv))\n",
    "    lv += 1\n",
    "\n",
    "asks.columns = col_names\n",
    "bids.columns = col_names\n",
    "asks.set_index('time', inplace = True)\n",
    "bids.set_index('time', inplace = True)\n",
    "asks.head(3)"
   ]
  },
  {
   "cell_type": "code",
   "execution_count": 9,
   "metadata": {},
   "outputs": [
    {
     "output_type": "execute_result",
     "data": {
      "text/plain": [
       "            0            1            2         3            4        5    \\\n",
       "0  1.604030e+09  53006742221  13436.21219  1.485000  53006487242  13436.0   \n",
       "1  1.604030e+09  53006644117  13435.00000  0.020366  53006743166  13434.0   \n",
       "2  1.604030e+09  53006644117  13433.00000  0.005366  53006732955  13432.0   \n",
       "3  1.604030e+09  53006644117  13433.00000  0.000006  52991845377  13430.0   \n",
       "4  1.604030e+09  53006644117  13433.00000  0.000006  52991845377  13430.0   \n",
       "\n",
       "        6            7        8         9    ...       291          292  \\\n",
       "0  1.500000  53006730640  13436.0  0.893528  ...  1.488106  53006742912   \n",
       "1  0.370600  53006732955  13433.0  0.013039  ...  1.130000  53006722739   \n",
       "2  0.013031  53006739725  13432.0  0.008685  ...  1.114503  53006747707   \n",
       "3  0.005000  53001580098  13428.0  0.000600  ...  0.148812  53005261309   \n",
       "4  0.005000  53001580098  13428.0  0.000600  ...  1.114872  53006751584   \n",
       "\n",
       "            293       294          295           296       297          298  \\\n",
       "0  13401.000000  1.488106  53005445104  13400.244016  0.924500  52983331611   \n",
       "1  13396.000000  1.000000  53005332352  13395.000000  3.000000  53006556117   \n",
       "2  13397.632619  0.480000  53006634548  13397.000000  0.161231  53006742923   \n",
       "3  13393.000000  0.604000  53006604168  13393.000000  0.423559  53006749250   \n",
       "4  13400.000000  1.488583  53005353017  13399.970775  0.000606  53006557241   \n",
       "\n",
       "       299       300  \n",
       "0  13400.0  0.050000  \n",
       "1  13395.0  2.173972  \n",
       "2  13397.0  1.488007  \n",
       "3  13393.0  0.005000  \n",
       "4  13397.0  1.734067  \n",
       "\n",
       "[5 rows x 301 columns]"
      ],
      "text/html": "<div>\n<style scoped>\n    .dataframe tbody tr th:only-of-type {\n        vertical-align: middle;\n    }\n\n    .dataframe tbody tr th {\n        vertical-align: top;\n    }\n\n    .dataframe thead th {\n        text-align: right;\n    }\n</style>\n<table border=\"1\" class=\"dataframe\">\n  <thead>\n    <tr style=\"text-align: right;\">\n      <th></th>\n      <th>0</th>\n      <th>1</th>\n      <th>2</th>\n      <th>3</th>\n      <th>4</th>\n      <th>5</th>\n      <th>6</th>\n      <th>7</th>\n      <th>8</th>\n      <th>9</th>\n      <th>...</th>\n      <th>291</th>\n      <th>292</th>\n      <th>293</th>\n      <th>294</th>\n      <th>295</th>\n      <th>296</th>\n      <th>297</th>\n      <th>298</th>\n      <th>299</th>\n      <th>300</th>\n    </tr>\n  </thead>\n  <tbody>\n    <tr>\n      <th>0</th>\n      <td>1.604030e+09</td>\n      <td>53006742221</td>\n      <td>13436.21219</td>\n      <td>1.485000</td>\n      <td>53006487242</td>\n      <td>13436.0</td>\n      <td>1.500000</td>\n      <td>53006730640</td>\n      <td>13436.0</td>\n      <td>0.893528</td>\n      <td>...</td>\n      <td>1.488106</td>\n      <td>53006742912</td>\n      <td>13401.000000</td>\n      <td>1.488106</td>\n      <td>53005445104</td>\n      <td>13400.244016</td>\n      <td>0.924500</td>\n      <td>52983331611</td>\n      <td>13400.0</td>\n      <td>0.050000</td>\n    </tr>\n    <tr>\n      <th>1</th>\n      <td>1.604030e+09</td>\n      <td>53006644117</td>\n      <td>13435.00000</td>\n      <td>0.020366</td>\n      <td>53006743166</td>\n      <td>13434.0</td>\n      <td>0.370600</td>\n      <td>53006732955</td>\n      <td>13433.0</td>\n      <td>0.013039</td>\n      <td>...</td>\n      <td>1.130000</td>\n      <td>53006722739</td>\n      <td>13396.000000</td>\n      <td>1.000000</td>\n      <td>53005332352</td>\n      <td>13395.000000</td>\n      <td>3.000000</td>\n      <td>53006556117</td>\n      <td>13395.0</td>\n      <td>2.173972</td>\n    </tr>\n    <tr>\n      <th>2</th>\n      <td>1.604030e+09</td>\n      <td>53006644117</td>\n      <td>13433.00000</td>\n      <td>0.005366</td>\n      <td>53006732955</td>\n      <td>13432.0</td>\n      <td>0.013031</td>\n      <td>53006739725</td>\n      <td>13432.0</td>\n      <td>0.008685</td>\n      <td>...</td>\n      <td>1.114503</td>\n      <td>53006747707</td>\n      <td>13397.632619</td>\n      <td>0.480000</td>\n      <td>53006634548</td>\n      <td>13397.000000</td>\n      <td>0.161231</td>\n      <td>53006742923</td>\n      <td>13397.0</td>\n      <td>1.488007</td>\n    </tr>\n    <tr>\n      <th>3</th>\n      <td>1.604030e+09</td>\n      <td>53006644117</td>\n      <td>13433.00000</td>\n      <td>0.000006</td>\n      <td>52991845377</td>\n      <td>13430.0</td>\n      <td>0.005000</td>\n      <td>53001580098</td>\n      <td>13428.0</td>\n      <td>0.000600</td>\n      <td>...</td>\n      <td>0.148812</td>\n      <td>53005261309</td>\n      <td>13393.000000</td>\n      <td>0.604000</td>\n      <td>53006604168</td>\n      <td>13393.000000</td>\n      <td>0.423559</td>\n      <td>53006749250</td>\n      <td>13393.0</td>\n      <td>0.005000</td>\n    </tr>\n    <tr>\n      <th>4</th>\n      <td>1.604030e+09</td>\n      <td>53006644117</td>\n      <td>13433.00000</td>\n      <td>0.000006</td>\n      <td>52991845377</td>\n      <td>13430.0</td>\n      <td>0.005000</td>\n      <td>53001580098</td>\n      <td>13428.0</td>\n      <td>0.000600</td>\n      <td>...</td>\n      <td>1.114872</td>\n      <td>53006751584</td>\n      <td>13400.000000</td>\n      <td>1.488583</td>\n      <td>53005353017</td>\n      <td>13399.970775</td>\n      <td>0.000606</td>\n      <td>53006557241</td>\n      <td>13397.0</td>\n      <td>1.734067</td>\n    </tr>\n  </tbody>\n</table>\n<p>5 rows × 301 columns</p>\n</div>"
     },
     "metadata": {},
     "execution_count": 9
    }
   ],
   "source": [
    "bids.head(5)"
   ]
  },
  {
   "cell_type": "code",
   "execution_count": null,
   "metadata": {},
   "outputs": [],
   "source": []
  }
 ]
}